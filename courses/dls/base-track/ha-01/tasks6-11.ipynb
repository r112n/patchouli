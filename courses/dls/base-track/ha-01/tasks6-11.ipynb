{
 "cells": [
  {
   "cell_type": "markdown",
   "id": "63137262-be67-4d83-883f-03b01f146ef6",
   "metadata": {},
   "source": [
    "# Task 6\n",
    "Реализуйте функцию `almost_double_factorial(n)`, вычисляющую\n",
    "произведение всех нечётных натуральных чисел, не превосходящих $n$. \\\n",
    "В качестве аргумента ей передаётся натуральное(ноль - натуральное)\n",
    "число $n \\leq 100$. \\\n",
    "Возвращаемое значение - вычисленное произведение.\n",
    "\n",
    "Комментарий. В случае, если $n = 0$, требуется вернуть 1.\n",
    "\n",
    "*В этом задании функция `print` вам не понадобится. Результаты выполнения функций нужно возвращать, а не печатать!* \n"
   ]
  },
  {
   "cell_type": "code",
   "execution_count": 7,
   "id": "323246ed-09f6-4ced-a327-01756d95c07e",
   "metadata": {},
   "outputs": [],
   "source": [
    "from functools import reduce\n",
    "def almost_double_factorial(n):\n",
    "    return reduce(lambda x, y: x*y, list(range(1, n+1, 2)), 1)"
   ]
  },
  {
   "cell_type": "code",
   "execution_count": 11,
   "id": "f1e9ec1c-1d90-438e-acda-266baeb5af5e",
   "metadata": {},
   "outputs": [
    {
     "data": {
      "text/plain": [
       "3"
      ]
     },
     "execution_count": 11,
     "metadata": {},
     "output_type": "execute_result"
    }
   ],
   "source": [
    "almost_double_factorial(33"
   ]
  },
  {
   "cell_type": "markdown",
   "id": "9c73b234-8156-419d-a1b0-c37c4a5894c8",
   "metadata": {},
   "source": [
    "# Task 7\n",
    "Пусть у нас есть следующий список, в котором элементы - tuple, из\n",
    "строк:\n",
    "\n",
    "\n",
    "    items = [('one', 'two'), ('three', 'four'), ('five', 'six'), ('string', 'a')]\n",
    "\n",
    "Мы хотим отсортировать этот список по **последней** букве **второго**\n",
    "элемента каждого tuple, т.е. получить такой список:\n",
    "\n",
    "    sorted_items = [('string', 'a'), ('one', 'two'), ('three', 'four'), ('five', 'six'),]\n",
    "\n",
    "Напишите код вместо \"YOUR CODE\" в следующем выражении, чтобы получить\n",
    "верную сортировку\n",
    "\n",
    "    sorted_items = sorted(items, key=lambda x: \"YOUR CODE\")"
   ]
  },
  {
   "cell_type": "code",
   "execution_count": 12,
   "id": "d586b333-2a50-4230-ab27-ac9269e3f2c0",
   "metadata": {},
   "outputs": [
    {
     "data": {
      "text/plain": [
       "[('string', 'a'), ('one', 'two'), ('three', 'four'), ('five', 'six')]"
      ]
     },
     "execution_count": 12,
     "metadata": {},
     "output_type": "execute_result"
    }
   ],
   "source": [
    "items = [('one', 'two'), ('three', 'four'), ('five', 'six'), ('string', 'a')]\n",
    "sorted_items = sorted(items, key=lambda x: x[1][-1])\n",
    "sorted_items"
   ]
  },
  {
   "cell_type": "markdown",
   "id": "cf4b6544-c67c-4ebe-8f2b-325ca236da6f",
   "metadata": {},
   "source": [
    "# Task8\n",
    "Дан list x:\n",
    "\n",
    "    x = [1, 2, 3, 4, 5]\n",
    "    x[YOUR_CODE] = [-1, -3, -5]\n",
    "\n",
    "    x\n",
    "\n",
    "\n",
    "Заполните слайс вместо YOUR_CODE, чтобы результатом стал следующий\n",
    "list:\n",
    "\n",
    "\n",
    "    [-5, 2, -3, 4, -1]\n"
   ]
  },
  {
   "cell_type": "code",
   "execution_count": 25,
   "id": "e40ed1fd-2c69-4ae9-9fb6-c3fe64fba5f5",
   "metadata": {},
   "outputs": [
    {
     "data": {
      "text/plain": [
       "[-5, 2, -3, 4, -1]"
      ]
     },
     "execution_count": 25,
     "metadata": {},
     "output_type": "execute_result"
    }
   ],
   "source": [
    "x = [1, 2, 3, 4, 5]\n",
    "x[-1:-6:-2] = [-1, -3, -5]\n",
    "x"
   ]
  },
  {
   "cell_type": "markdown",
   "id": "544a0690-0bc5-40d3-a1d8-862d055c2225",
   "metadata": {},
   "source": [
    "# Task9\n",
    "Дан массив $A[0,...,N-1]$. Реализуйте функцию `cumsum_and_erase(...)`,\n",
    "принимающую один обязательный аргумент $A$ и один опциональный\n",
    "аргумент $erase$, по умолчанию равный 1.\n",
    "\n",
    "Функция должна выполнять следующие действия:\n",
    "\n",
    "- сформировать массив $B[0,...,N-1]$, где $B_i = A_0 + ... + A_i$ - массив частичных сумм массива $A$;\n",
    "- удалить из массива $B$ все элементы, равные параметру $erase$; получить массив $C$;\n",
    "- вернуть $C$ в качестве ответа\n",
    "\n",
    "Постарайтесь сделать это за время $O(N)$ без использования Numpy"
   ]
  },
  {
   "cell_type": "code",
   "execution_count": 32,
   "id": "86f732ac-63f0-4a99-b91b-725835ec551d",
   "metadata": {},
   "outputs": [
    {
     "data": {
      "text/plain": [
       "[5, 6, 15, 29]"
      ]
     },
     "execution_count": 32,
     "metadata": {},
     "output_type": "execute_result"
    }
   ],
   "source": [
    "def cumsum_and_erase(arr, erase=1):\n",
    "    B = [arr[0]]\n",
    "    for i in range(1, len(arr)):\n",
    "        B.append(B[i-1] + arr[i])\n",
    "    C = list(filter(lambda x: x != erase, B))\n",
    "    return C\n",
    "cumsum_and_erase([5, 1, 4, 5, 14], erase=10)\n"
   ]
  },
  {
   "cell_type": "code",
   "execution_count": 33,
   "id": "377e39c0-f4e8-41b2-9f4e-145b746588fc",
   "metadata": {},
   "outputs": [],
   "source": [
    "A = [5, 1, 4, 5, 14]\n",
    "B = cumsum_and_erase(A, erase=10)\n",
    "assert B == [5, 6, 15, 29], 'Something is wrong! Please try again'"
   ]
  },
  {
   "cell_type": "markdown",
   "id": "12e56375-7086-4a68-81d1-34f1464cf261",
   "metadata": {},
   "source": [
    "# Task10\n",
    "Дан список текстов, слова в которых разделены пробелами (можно\n",
    "считать, что знаков препинания нет). \n",
    "Часть слов является \"мусорными\": в них присутствуют цифры и\n",
    "спецсимволы. \n",
    "Отфильтруйте такие слова из каждого текста.\n",
    "\n",
    "Используйте функции `str.split`, `str.isalpha`, `str.join`, а также **list comprehensions**."
   ]
  },
  {
   "cell_type": "code",
   "execution_count": 38,
   "id": "beba2ef5-bc1b-408b-bc4b-ef5a113ffc5e",
   "metadata": {},
   "outputs": [
    {
     "data": {
      "text/plain": [
       "['thousand devils', 'My name is', 'Room costs', '']"
      ]
     },
     "execution_count": 38,
     "metadata": {},
     "output_type": "execute_result"
    }
   ],
   "source": [
    "def process(sentences):\n",
    "    return [' '.join(list(filter(lambda x: x.isalpha(), sentence.split()))) for sentence in sentences] \n",
    "\n",
    "process(['1 thousand devils', 'My name is 9Pasha', 'Room #125 costs $100', '888'])"
   ]
  },
  {
   "cell_type": "markdown",
   "id": "dee47f7e-f2a0-40b9-9d9f-9065e89179b6",
   "metadata": {},
   "source": [
    "# Task11\n",
    "Реализуйте класс \"Нейрон\", у которого будет несколько методов:\n",
    "\n",
    "- `__init__`. Принимает на вход массив весов нейрона $\\omega = (\\omega_1, ..., \\omega_n2)$, \n",
    "  а также функцию $f$ (аргумент по умолчанию $f(x)=x$). \n",
    "  Сохраняет веса и функцию внутри класса.\n",
    "- forward. Принимает на вход массив $x = (x_1, ..., x_n)$ - входы\n",
    "  нейрона. Возвращает $f(\\omega_1 x_1 + ... + \\omega_n x_n)$.\n",
    "- backlog. Возвращает массив x, который подавался на вход функции\n",
    "  forward при её последнем вызове. Если ранее функция forward не\n",
    "  вызывалась, возвращает None."
   ]
  },
  {
   "cell_type": "code",
   "execution_count": null,
   "id": "a063e800-9759-4220-ae43-5dd05083546e",
   "metadata": {},
   "outputs": [],
   "source": [
    "class Neuron:\n",
    "    def __init__(self, w, f = lambda x: x):\n",
    "        self.log_x = None\n",
    "        self.w = w\n",
    "        self.f = f\n",
    "\n",
    "    def forward(self, x):\n",
    "        self.log_x = x\n",
    "        return self.f(sum([self.w[i] * x[i] for i in range(len(w))]))\n",
    "\n",
    "    def backlog(self):\n",
    "        return self.log_x"
   ]
  }
 ],
 "metadata": {
  "kernelspec": {
   "display_name": "Python 3 (ipykernel)",
   "language": "python",
   "name": "python3"
  },
  "language_info": {
   "codemirror_mode": {
    "name": "ipython",
    "version": 3
   },
   "file_extension": ".py",
   "mimetype": "text/x-python",
   "name": "python",
   "nbconvert_exporter": "python",
   "pygments_lexer": "ipython3",
   "version": "3.10.8"
  },
  "name": "Без названия.ipynb"
 },
 "nbformat": 4,
 "nbformat_minor": 5
}
